{
 "cells": [
  {
   "cell_type": "markdown",
   "id": "d20a38de-bd32-4804-ac9f-dd68a5da41b6",
   "metadata": {},
   "source": [
    "# CE-QUAL-W2 Workshop: Python and JupyterLab\n",
    "\n",
    "The following instructions will guide you through though setting up Python to run the workshop exercises, using the Anaconda distribution of Python. The instructions will show you how to:\n",
    "\n",
    "1. Install a custom library of software you will need for this workshop\n",
    "2. Run JupyterLab, a modern computing environment that allows you to run Python code interactively. It also contains a number of useful features, such as a file browser and image and PDF viewer.\n",
    "\n",
    "Generalized instructions for Windows, MacOS, Linux are located on the Anaconda website:\n",
    "\n",
    "[https://conda.io/projects/conda/en/latest/user-guide/getting-started.html](https://conda.io/projects/conda/en/latest/user-guide/getting-started.html)\n",
    "\n",
    "Once you have JupyterLab running, you will be able to open and run one of the provided \"Jupyter Notebook\" files.\n",
    "\n",
    "#### 1. Open your Anaconda Prompt. This is also known as a terminal. It will allow you to enter a series of commands, as shown below.\n",
    "\n",
    "#### 2. Change to the directory containing the files we will be working with for workshop 2.11. This will ensure that everything you need for the workshop will be easy to access. You will first need to change directories within the Anaconda prompt.\n",
    "\n",
    "* Type the letters `cd` in the Anaconda Prompt. This stands for \"change directory\".\n",
    "* Enter one space using the spacebar on your keyboard.\n",
    "* Go to your file browser (Windows Explorer) and browse to the folder that contains the files we will be using. For this example, the correct folder will be `DeGray_Reservoir`, which is located inside the `2.11_Workshop_Model_Utilities` folder.\n",
    "* Drag and drop the `DeGray_Reservoir` folder to the Anaconda Prompt. Then press the Enter key.\n",
    "\n",
    "```\n",
    "cd C:\\Users\\MyName\\Desktop\\CE-QUAL-W2-main\\workshop\\Day2\\2.11_Worskhop_Model_Utilities\\DeGray_Reservoir\n",
    "```\n",
    "\n",
    "Verify that you have changed to the right directory in the Anaconda Prompt. Type `cd` and press the `Enter` key on your keyboard. This will display the full path to your folder.\n",
    "\n",
    "```\n",
    "cd\n",
    "```\n",
    "\n",
    "In your command prompt, you should see the full path to your folder displayed. For the example above, this would be:\n",
    "\n",
    "```\n",
    "cd C:\\Users\\MyName\\Desktop\\CE-QUAL-W2-main\\workshop\\Day2\\2.11_Worskhop_Model_Utilities\\DeGray_Reservoir\n",
    "```\n",
    "\n",
    "#### 3. Create a new virtual environment, a sandbox that will contain only the software you want to use. Please type or copy-paste the following in the Anaconda Prompt:\n",
    "\n",
    "```\n",
    "conda create --name w2 python=3.9\n",
    "```\n",
    "\n",
    "#### 4. Activate your new environment. Enter the following:\n",
    "\n",
    "```\n",
    "conda activate w2\n",
    "```\n",
    "\n",
    "#### 5. Install the software libraries will will require for this workshop. Enter the following:\n",
    "\n",
    "```\n",
    "conda install -c conda-forge numpy scipy matplotlib seaborn pandas h5py yaml bokeh ipython openpyxl jupyter jupyterlab\n",
    "```\n",
    "\n",
    "#### 6. If the above steps have run correctly, without errors. You are now ready to run JupyterLab. Please enter the following. Note: \"jupyter lab\" is written as two words, and \"jupyter\" is misspelled, Python-style.\n",
    "\n",
    "```\n",
    "jupyter lab\n",
    "```\n",
    "\n",
    "When JupyterLab launches, you are ready to open a notebook.\n",
    "\n"
   ]
  }
 ],
 "metadata": {
  "kernelspec": {
   "display_name": "Python 3.9.9 ('clearwater')",
   "language": "python",
   "name": "python3"
  },
  "language_info": {
   "codemirror_mode": {
    "name": "ipython",
    "version": 3
   },
   "file_extension": ".py",
   "mimetype": "text/x-python",
   "name": "python",
   "nbconvert_exporter": "python",
   "pygments_lexer": "ipython3",
   "version": "3.9.9"
  },
  "vscode": {
   "interpreter": {
    "hash": "e6c70388f1b84876e6f3105ac98ef15d4b7d1e2b6314ab62781b7fdf46969e65"
   }
  }
 },
 "nbformat": 4,
 "nbformat_minor": 5
}
