{
 "cells": [
  {
   "cell_type": "markdown",
   "metadata": {},
   "source": [
    "# 2.11 CE-QUAL-W2 Workshop\n",
    "## 2.11a. Introduction to Python"
   ]
  },
  {
   "cell_type": "markdown",
   "metadata": {},
   "source": [
    "### Strings and printing things\n",
    "Strings in Python are enclosed in quotes. Python has three types of quoted strings:\n",
    "* Single quotes: `'`\n",
    "* Double quotes: `\"`\n",
    "* Triple quotes, two kinds:\n",
    "  * Triple single quotes: `'''`\n",
    "  * Triple double quotes: `\"\"\"`\n",
    "\n",
    "To *print* something to a string, put it inside of a `print` function, surrounded by parentheses. In Jupyter notebooks, you can use the `display` function to print formatted (i.e., \"pretty-printed\") output."
   ]
  },
  {
   "cell_type": "code",
   "execution_count": 1,
   "metadata": {},
   "outputs": [
    {
     "name": "stdout",
     "output_type": "stream",
     "text": [
      "This is a string.\n",
      "And so is this.\n",
      "and this.\n"
     ]
    },
    {
     "data": {
      "text/plain": [
       "'and even this...'"
      ]
     },
     "metadata": {},
     "output_type": "display_data"
    }
   ],
   "source": [
    "print('This is a string.')\n",
    "print(\"And so is this.\")\n",
    "print(\"\"\"and this.\"\"\")\n",
    "display('''and even this...''')"
   ]
  },
  {
   "cell_type": "markdown",
   "metadata": {},
   "source": [
    "### Comments\n",
    "\n",
    "Comments allow explaining important things about a program. The \"`#`\" character marks the beginning of a string. Everything following the \"`#`\" is ignored by Python."
   ]
  },
  {
   "cell_type": "code",
   "execution_count": 2,
   "metadata": {},
   "outputs": [
    {
     "name": "stdout",
     "output_type": "stream",
     "text": [
      "Hello, world!\n"
     ]
    }
   ],
   "source": [
    "# This entire line is a comment\n",
    "\n",
    "# New programmers often write a simple \"Hello, World!\" program.\n",
    "# Python's version of this program is very simple!\n",
    "print('Hello, world!') # The end of this line is a comment!"
   ]
  },
  {
   "cell_type": "markdown",
   "metadata": {},
   "source": [
    "### Variables\n",
    "\n",
    "Variables hold one or more values, such as numbers and strings. Values are assigned to variables using the equals (`=`) sign. To assign the integer `5` to the variable `x`:"
   ]
  },
  {
   "cell_type": "code",
   "execution_count": 3,
   "metadata": {},
   "outputs": [
    {
     "name": "stdout",
     "output_type": "stream",
     "text": [
      "5\n"
     ]
    }
   ],
   "source": [
    "x = 5\n",
    "\n",
    "print(5)"
   ]
  },
  {
   "cell_type": "markdown",
   "metadata": {},
   "source": [
    "### Integers, floating point numbers (floats), and simple math"
   ]
  },
  {
   "cell_type": "code",
   "execution_count": 4,
   "metadata": {},
   "outputs": [
    {
     "name": "stdout",
     "output_type": "stream",
     "text": [
      "6 * 7.0 =  42.0\n"
     ]
    }
   ],
   "source": [
    "x = 6 # This is an integer\n",
    "y = 7.0 # This is a float\n",
    "z = x * y\n",
    "\n",
    "print('6 * 7.0 = ', z)"
   ]
  },
  {
   "cell_type": "markdown",
   "metadata": {},
   "source": [
    "### Lists\n",
    "\n",
    "Lists in Python allow you to store and pass around a collection of strings, numbers, and other objects."
   ]
  },
  {
   "cell_type": "code",
   "execution_count": 5,
   "metadata": {},
   "outputs": [
    {
     "data": {
      "text/plain": [
       "['spam', 'eggs', 6.0, 7, 42]"
      ]
     },
     "execution_count": 5,
     "metadata": {},
     "output_type": "execute_result"
    }
   ],
   "source": [
    "my_list = ['spam', 'eggs', 6.0, 7, 42]\n",
    "my_list # <--- Another way to print values"
   ]
  },
  {
   "cell_type": "markdown",
   "metadata": {},
   "source": [
    "### Functions\n",
    "\n",
    "Functions are factories that allow you to encapsulate code that will be used over and over again. They operate similar factories. You feed items into the functions, and then they output the finished product.\n",
    "\n",
    "To *define* a function, type the keyword, `def`, followed by the name of the function, and then the *parameters* that will receive the values input into the function."
   ]
  },
  {
   "cell_type": "code",
   "execution_count": 6,
   "metadata": {},
   "outputs": [],
   "source": [
    "def add_two_numbers(x, y):\n",
    "    '''Add two numbers and return the result''' # <--- This is a \"doc string\"\n",
    "    z = x + y\n",
    "    return z"
   ]
  },
  {
   "cell_type": "markdown",
   "metadata": {},
   "source": [
    "To call the function, write the function name, followed by *arguments* in parantheses that correspond to the *parameters* in the definition of the function."
   ]
  },
  {
   "cell_type": "code",
   "execution_count": 7,
   "metadata": {},
   "outputs": [
    {
     "name": "stdout",
     "output_type": "stream",
     "text": [
      "The sum of 1 and 2 =  3\n"
     ]
    }
   ],
   "source": [
    "z = add_two_numbers(1, 2) # The arguments are \"1\" and \"2\". These correspond to \"x\" and \"y\" in the function definition.\n",
    "print('The sum of 1 and 2 = ', z)"
   ]
  },
  {
   "cell_type": "markdown",
   "metadata": {},
   "source": [
    "### Modules and imports\n",
    "\n",
    "You can combine one or more functions, along with data, into a *module*. A module is a file with a \".py\" extension. A *library* consists of one or more modules that are contained in a folder or a set of nested folders.\n",
    "\n",
    "For example, to import the widely used *numpy* library, one of the following import statements may be used.\n"
   ]
  },
  {
   "cell_type": "code",
   "execution_count": 8,
   "metadata": {},
   "outputs": [
    {
     "data": {
      "text/plain": [
       "-0.9165215479156338"
      ]
     },
     "execution_count": 8,
     "metadata": {},
     "output_type": "execute_result"
    }
   ],
   "source": [
    "import numpy # Import the numpy library\n",
    "numpy.sin(42)"
   ]
  },
  {
   "cell_type": "code",
   "execution_count": 9,
   "metadata": {},
   "outputs": [
    {
     "data": {
      "text/plain": [
       "-0.9165215479156338"
      ]
     },
     "execution_count": 9,
     "metadata": {},
     "output_type": "execute_result"
    }
   ],
   "source": [
    "import numpy as np # Import the numpy library as give it an \"alias\"\n",
    "np.sin(42)"
   ]
  },
  {
   "cell_type": "code",
   "execution_count": 10,
   "metadata": {},
   "outputs": [
    {
     "name": "stdout",
     "output_type": "stream",
     "text": [
      "-0.9165215479156338\n",
      "-0.3999853149883513\n"
     ]
    }
   ],
   "source": [
    "from numpy import sin, cos # Import individual functions from numpy\n",
    "print(sin(42))\n",
    "print(cos(42))"
   ]
  },
  {
   "cell_type": "code",
   "execution_count": 11,
   "metadata": {},
   "outputs": [
    {
     "data": {
      "text/plain": [
       "2.291387992437486"
      ]
     },
     "execution_count": 11,
     "metadata": {},
     "output_type": "execute_result"
    }
   ],
   "source": [
    "from numpy import * # Import everything. This is NOT recommended.\n",
    "tan(42)"
   ]
  },
  {
   "cell_type": "markdown",
   "metadata": {},
   "source": [
    "--------------------------------------------------------------\n",
    "\n",
    "This concludes our simple introduction to Python!\n",
    "\n",
    "For more information on Python and its rich ecosystem of libraries for scientific computing, analysis, and vizualization, please see the following references:\n",
    "* [Python](https://www.python.org)\n",
    "* [JupyterLab](https://jupyterlab.readthedocs.io/en/stable/)\n",
    "* [NumPy](https://numpy.org)\n",
    "* [Scipy](https://scipy.org)\n",
    "* [Matplotlib](https://matplotlib.org)\n",
    "* [Pandas](https://pandas.pydata.org)\n",
    "* [Seaborn](https://seaborn.pydata.org)\n",
    "* [Holoviews](https://holoviews.org)\n",
    "* [Bokeh](https://bokeh.org)\n",
    "* [Markdown](https://www.markdownguide.org)\n"
   ]
  }
 ],
 "metadata": {
  "kernelspec": {
   "display_name": "Python 3",
   "language": "python",
   "name": "python3"
  },
  "language_info": {
   "codemirror_mode": {
    "name": "ipython",
    "version": 3
   },
   "file_extension": ".py",
   "mimetype": "text/x-python",
   "name": "python",
   "nbconvert_exporter": "python",
   "pygments_lexer": "ipython3",
   "version": "3.9.12"
  },
  "vscode": {
   "interpreter": {
    "hash": "e6c70388f1b84876e6f3105ac98ef15d4b7d1e2b6314ab62781b7fdf46969e65"
   }
  }
 },
 "nbformat": 4,
 "nbformat_minor": 4
}
